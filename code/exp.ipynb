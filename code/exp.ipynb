{
 "cells": [
  {
   "cell_type": "code",
   "execution_count": 19,
   "metadata": {},
   "outputs": [],
   "source": [
    "import sqlite3\n",
    "import json\n",
    "from langchain.agents import Tool, create_react_agent, AgentExecutor\n",
    "from langchain.memory import ConversationBufferMemory\n",
    "from langchain.tools import tool\n",
    "from langchain_openai import AzureChatOpenAI\n",
    "from langchain.prompts import PromptTemplate\n",
    "from langchain_core.runnables import RunnableLambda\n",
    "from langchain import hub"
   ]
  },
  {
   "cell_type": "code",
   "execution_count": 2,
   "metadata": {},
   "outputs": [],
   "source": [
    "OPENAI_DEPLOYMENT_ENDPOINT = \"https://az-openai-document-question-answer-service.openai.azure.com/\" \n",
    "OPENAI_API_KEY = \"5d24331966b648738e5003caad552df8\" \n",
    "OPENAI_API_VERSION = \"2023-05-15\"\n",
    "\n",
    "OPENAI_DEPLOYMENT_NAME = \"az-gpt_35_model\"\n",
    "OPENAI_MODEL_NAME=\"gpt-3.5-turbo\"\n",
    "\n",
    "OPENAI_ADA_EMBEDDING_DEPLOYMENT_NAME = \"az-embedding_model\" \n",
    "OPENAI_ADA_EMBEDDING_MODEL_NAME = \"text-embedding-ada-002\"\n",
    "\n",
    "encoding_name = \"cl100k_base\"\n",
    "# OPENAI_API_KEY = os.environ[\"OPENAI_API_KEY\"]\n",
    "# CHROMA_PATH = \"c:\\\\Users\\\\SujaySunilNagvekar\\\\VM\\\\GEN AI\\\\SERFF\\\\vector_db\\\\neil_db\"\n",
    "# data_folder = \"C:\\\\Users\\\\SujaySunilNagvekar\\\\VM\\\\GEN AI\\\\SERFF\\\\new_files\"\n",
    "csv_file = \"C:\\\\Users\\\\SujaySunilNagvekar\\\\VM\\\\GEN AI\\\\Parker\\\\vm-GenAI_BI\\\\Text to SQL_V1\\\\Nurse_notes_parker.csv\"\n",
    "### Cohere API key "
   ]
  },
  {
   "cell_type": "code",
   "execution_count": 3,
   "metadata": {},
   "outputs": [],
   "source": [
    "db_file = \"nurse_notes.db\""
   ]
  },
  {
   "cell_type": "code",
   "execution_count": 4,
   "metadata": {},
   "outputs": [],
   "source": [
    "llm = AzureChatOpenAI(\n",
    "                        temperature=0.1,\n",
    "                        deployment_name=OPENAI_DEPLOYMENT_NAME,\n",
    "                        model_name=OPENAI_MODEL_NAME,\n",
    "                        azure_endpoint=OPENAI_DEPLOYMENT_ENDPOINT,\n",
    "                        openai_api_version=OPENAI_API_VERSION,\n",
    "                        openai_api_key=OPENAI_API_KEY            \n",
    "                    )\n",
    "\n",
    "# Step 2: Connect to SQLite Database\n",
    "def connect_db(db_file):\n",
    "    conn = sqlite3.connect(db_file)\n",
    "    cursor = conn.cursor()\n",
    "    return conn, cursor"
   ]
  },
  {
   "cell_type": "code",
   "execution_count": 5,
   "metadata": {},
   "outputs": [],
   "source": [
    "def extract_schema(cursor, table_name):\n",
    "    cursor.execute(f\"PRAGMA table_info({table_name})\")\n",
    "    columns = cursor.fetchall()\n",
    "    schema = []\n",
    "    for column in columns:\n",
    "        schema.append({\n",
    "            \"Column Name\": column[1],\n",
    "            \"Data Type\": column[2],\n",
    "            \"Nullable\": 'YES' if column[3] == 0 else 'NO',\n",
    "            \"Primary Key\": 'YES' if column[5] > 0 else 'NO'\n",
    "        })\n",
    "    return schema"
   ]
  },
  {
   "cell_type": "code",
   "execution_count": 6,
   "metadata": {},
   "outputs": [],
   "source": [
    "def extract_metadata(cursor, table_name):\n",
    "    cursor.execute(f\"SELECT * FROM {table_name} LIMIT 5\")\n",
    "    rows = cursor.fetchall()\n",
    "    columns = [desc[0] for desc in cursor.description]\n",
    "\n",
    "    metadata = []\n",
    "    for col in columns:\n",
    "        example_values = []\n",
    "        for row in rows:\n",
    "            idx = [i for i, desc in enumerate(cursor.description) if desc[0] == col]\n",
    "            if idx:  # Check if index exists\n",
    "                example_values.append(row[idx[0]] if row[idx[0]] is not None else \"NULL\")\n",
    "\n",
    "        metadata.append({\n",
    "            \"Column Name\": col,\n",
    "            \"Examples\": example_values[:3]\n",
    "        })\n",
    "    return metadata"
   ]
  },
  {
   "cell_type": "code",
   "execution_count": 7,
   "metadata": {},
   "outputs": [],
   "source": [
    "def process_all_tables(db_file):\n",
    "    conn, cursor = connect_db(db_file)\n",
    "    cursor.execute(\"SELECT name FROM sqlite_master WHERE type='table';\")\n",
    "    tables = cursor.fetchall()\n",
    "\n",
    "    schema_info = {}\n",
    "    metadata_info = {}\n",
    "\n",
    "    for table in tables:\n",
    "        table_name = table[0]\n",
    "        schema_info[table_name] = extract_schema(cursor, table_name)\n",
    "        metadata_info[table_name] = extract_metadata(cursor, table_name)\n",
    "\n",
    "    conn.close()\n",
    "    return schema_info, metadata_info"
   ]
  },
  {
   "cell_type": "code",
   "execution_count": 8,
   "metadata": {},
   "outputs": [],
   "source": [
    "def save_schema_metadata(schema, metadata):\n",
    "    with open('schema.json', 'w') as schema_file:\n",
    "        json.dump(schema, schema_file, indent=4)\n",
    "\n",
    "    with open('metadata.json', 'w') as metadata_file:\n",
    "        json.dump(metadata, metadata_file, indent=4)"
   ]
  },
  {
   "cell_type": "code",
   "execution_count": 9,
   "metadata": {},
   "outputs": [],
   "source": [
    "# Example Tool: SQL Query Executor\n",
    "def query_sqlite(query: str) -> str:\n",
    "    \"\"\"Executes SQL query and returns results.\"\"\"\n",
    "    conn = sqlite3.connect(db_file)\n",
    "    cursor = conn.cursor()\n",
    "    try:\n",
    "        cursor.execute(query)\n",
    "        result = cursor.fetchall()\n",
    "        columns = [desc[0] for desc in cursor.description]\n",
    "        conn.close()\n",
    "        return str([dict(zip(columns, row)) for row in result])\n",
    "    except sqlite3.Error as e:\n",
    "        conn.close()\n",
    "        return f\"SQL error: {e}\"\n",
    "\n",
    "# Define Tools for the Agent\n",
    "tools = [\n",
    "    Tool(\n",
    "        name=\"Query SQLite\",\n",
    "        func=query_sqlite,\n",
    "        description=\"Executes SQL queries and retrieves results.\"\n",
    "    )\n",
    "]"
   ]
  },
  {
   "cell_type": "code",
   "execution_count": 112,
   "metadata": {},
   "outputs": [],
   "source": [
    "import pandas as pd\n",
    "\n",
    "def generate_table_metadata():\n",
    "    \"\"\"\n",
    "    Generates metadata string for the table, including column names, types, and descriptions.\n",
    "\n",
    "    Returns:\n",
    "        str: Formatted metadata string for the prompt.\n",
    "    \"\"\"\n",
    "    # Define table metadata\n",
    "    table_metadata = pd.DataFrame({\n",
    "        \"Column_Name\": [\n",
    "            \"Primary_key\", \"First_Name\", \"Last_Name\", \"Age\", \"Gender\",\n",
    "            \"Marital_Status\", \"Race\", \"Day\", \"Shift\", \"Nurse_name\",\n",
    "            \"Clinical_Notes\", \"Non_clinical_notes\"\n",
    "        ],\n",
    "        \"Column_Type\": [\n",
    "            \"INTEGER\", \"varchar\", \"varchar\", \"INTEGER\", \"varchar\",\n",
    "            \"varchar\", \"varchar\", \"varchar\", \"varchar\", \"varchar\",\n",
    "            \"varchar\", \"varchar\"\n",
    "        ],\n",
    "        \"Description\": [\n",
    "            \"Unique identifier for each record\",\n",
    "            \"First name of the senior resident\",\n",
    "            \"Last name of the senior resident\",\n",
    "            \"Age of the senior resident\",\n",
    "            \"Gender of the senior resident (Male/Female)\",\n",
    "            \"Marital status of the resident (Single/Married/Widowed/Divorced)\",\n",
    "            \"Race of the resident\",\n",
    "            \"Day of the week the note was recorded\",\n",
    "            \"Shift during which the note was recorded (Morning/Night)\",\n",
    "            \"Full Name of the nurse who recorded the note\",\n",
    "            \"Detailed clinical notes about the resident's incident or medical event/ emergency\",\n",
    "            \"Non-clinical notes such as personal preferences or complaints\"\n",
    "        ]\n",
    "    })\n",
    "\n",
    "    # Format metadata as a string\n",
    "    formatted_metadata = table_metadata.apply(\n",
    "        lambda row: f\"{row['Column_Name']} ({row['Column_Type']}): {row['Description']}\".replace(\"{\", \"{{\").replace(\"}\", \"}}\"),\n",
    "        axis=1\n",
    "    ).tolist()\n",
    "\n",
    "    # Combine metadata into a single string\n",
    "    metadata_string = \"\\n\".join(formatted_metadata)\n",
    "\n",
    "    return metadata_string\n"
   ]
  },
  {
   "cell_type": "code",
   "execution_count": 133,
   "metadata": {},
   "outputs": [],
   "source": [
    "schema, _  = process_all_tables(db_file)\n",
    "table_name = \"nurse_notes\"\n",
    "table_metadata = generate_table_metadata()\n"
   ]
  },
  {
   "cell_type": "code",
   "execution_count": 136,
   "metadata": {},
   "outputs": [],
   "source": [
    "import pandas as pd\n",
    "\n",
    "def generate_metadata_prompt(table_metadata, table_name):\n",
    "    \"\"\"\n",
    "    Combines schema, metadata, and table name into a single formatted string\n",
    "    for inclusion in the prompt template.\n",
    "\n",
    "    Args:\n",
    "        schema (str): The schema string generated by process_all_tables().\n",
    "        table_metadata (pd.DataFrame): Metadata DataFrame with columns like Name, Type, Description.\n",
    "        table_name (str): Name of the table being queried.\n",
    "\n",
    "    Returns:\n",
    "        str: Formatted metadata string to embed in the prompt.\n",
    "    \"\"\"\n",
    "\n",
    "\n",
    "\n",
    "    # Combine Everything\n",
    "    metadata_prompt = f\"\"\"\n",
    "Table Name: {table_name}\n",
    "\n",
    "\n",
    "Metadata for the Table:\n",
    "{table_metadata}\n",
    "\"\"\"\n",
    "\n",
    "    return metadata_prompt\n"
   ]
  },
  {
   "cell_type": "code",
   "execution_count": 137,
   "metadata": {},
   "outputs": [
    {
     "name": "stdout",
     "output_type": "stream",
     "text": [
      "\n",
      "Table Name: nurse_notes\n",
      "\n",
      "\n",
      "Metadata for the Table:\n",
      "Primary_key (INTEGER): Unique identifier for each record\n",
      "First_Name (varchar): First name of the senior resident\n",
      "Last_Name (varchar): Last name of the senior resident\n",
      "Age (INTEGER): Age of the senior resident\n",
      "Gender (varchar): Gender of the senior resident (Male/Female)\n",
      "Marital_Status (varchar): Marital status of the resident (Single/Married/Widowed/Divorced)\n",
      "Race (varchar): Race of the resident\n",
      "Day (varchar): Day of the week the note was recorded\n",
      "Shift (varchar): Shift during which the note was recorded (Morning/Night)\n",
      "Nurse_name (varchar): Full Name of the nurse who recorded the note\n",
      "Clinical_Notes (varchar): Detailed clinical notes about the resident's incident or medical event/ emergency\n",
      "Non_clinical_notes (varchar): Non-clinical notes such as personal preferences or complaints\n",
      "\n"
     ]
    }
   ],
   "source": [
    "metadata_string = generate_metadata_prompt(table_metadata, table_name)\n",
    "\n",
    "# Print Result (For Debugging)\n",
    "print(metadata_string)"
   ]
  },
  {
   "cell_type": "code",
   "execution_count": 195,
   "metadata": {},
   "outputs": [],
   "source": [
    "# Step 3: Memory for Chat History\n",
    "memory = ConversationBufferMemory(memory_key=\"chat_history\", return_messages=True)\n",
    "\n",
    "# Step 4: Define the Prompt for the Agent\n",
    "\n",
    "# prompt = hub.pull(\"hwchase17/react\")\n",
    "\n",
    "# Step 4: Define the Prompt for the Agent\n",
    "prompt = PromptTemplate(\n",
    "    input_variables=[\n",
    "        'agent_scratchpad', 'input', 'tool_names', 'tools',  # FLAT variables\n",
    "    ],\n",
    "    template=f'''\n",
    "You are an AI assistant equipped with tools for querying databases and reasoning step-by-step. \n",
    "Your job is to carefully analyze the input query, determine the best tool to use, EXECUTE the tool.\n",
    "\n",
    "Metadata for the Table:\n",
    "{metadata_string}\n",
    "\n",
    "\n",
    "Use the following format:\n",
    "\n",
    "Question: {{input}}\n",
    "Thought: you should always think about what to do\n",
    "Action: the action to take, should be one of [{{tool_names}}]\n",
    "Action Input: the input to the action\n",
    "Observation: the result of the action\n",
    "... (this Thought/Action/Action Input/Observation can repeat N times)\n",
    "Thought: I now know the final answer\n",
    "Final Answer: the final answer to the original input question\n",
    "\n",
    "TOOLS:\n",
    "{{tools}}\n",
    "\n",
    "AVAILABLE TOOL NAMES:\n",
    "{{tool_names}}\n",
    "\n",
    "Begin!\n",
    "\n",
    "Question: {{input}}\n",
    "Thought:{{agent_scratchpad}}\n",
    "'''\n",
    ")\n",
    "\n",
    "\n",
    "# Step 5: Create a Custom Output Parser\n",
    "def clean_output(response):\n",
    "    \"\"\"\n",
    "    Custom function to extract only the final answer from agent response.\n",
    "    \"\"\"\n",
    "    # Check if response includes explanations or reasoning; extract final answer\n",
    "    if \"Therefore,\" in response:\n",
    "        return response.split(\"Therefore,\")[-1].strip()  # Extract text after 'Therefore'\n",
    "    return response.strip()\n",
    "\n",
    "output_parser = None  # No custom parser for now\n",
    "\n",
    "\n",
    "# Step 6: Create the ReAct Agent\n",
    "agent = create_react_agent(llm=llm, tools=tools, prompt=prompt)\n",
    "\n",
    "# Step 7: Wrap in Executor\n",
    "agent_executor = AgentExecutor(\n",
    "    agent=agent,\n",
    "    tools=tools,\n",
    "    verbose=True,\n",
    "    memory=memory,\n",
    "    return_intermediate_steps=False,  # Suppress reasoning steps\n",
    "    output_parser=output_parser,\n",
    "    handle_parsing_errors=True,  # Apply the custom output parser\n",
    "    max_iterations=15,  # Increase iteration limit\n",
    "    max_execution_time=30  # Add execution timeout\n",
    ")"
   ]
  },
  {
   "cell_type": "code",
   "execution_count": 196,
   "metadata": {},
   "outputs": [],
   "source": [
    "# prompt = hub.pull(\"hwchase17/react\")"
   ]
  },
  {
   "cell_type": "code",
   "execution_count": 197,
   "metadata": {},
   "outputs": [
    {
     "data": {
      "text/plain": [
       "ConversationBufferMemory(return_messages=True, memory_key='chat_history')"
      ]
     },
     "execution_count": 197,
     "metadata": {},
     "output_type": "execute_result"
    }
   ],
   "source": [
    "memory"
   ]
  },
  {
   "cell_type": "code",
   "execution_count": 201,
   "metadata": {},
   "outputs": [
    {
     "name": "stdout",
     "output_type": "stream",
     "text": [
      "\n",
      "\n",
      "\u001b[1m> Entering new AgentExecutor chain...\u001b[0m\n",
      "\u001b[32;1m\u001b[1;3mI need to query the nurse_notes table to find the resident who complained about lack of activities. I should look for non-clinical notes that mention this complaint.\n",
      "Action: Query SQLite\n",
      "Action Input: SELECT First_Name, Last_Name FROM nurse_notes WHERE Non_clinical_notes LIKE '%lack of activities%'\u001b[0m\u001b[36;1m\u001b[1;3m[{'First_Name': 'Robert', 'Last_Name': 'Nash'}]\u001b[0m\u001b[32;1m\u001b[1;3mThe query returned one result, which means that Robert Nash is the only resident who complained about lack of activities.\n",
      "Final Answer: Robert Nash complained about lack of activities.\u001b[0m\n",
      "\n",
      "\u001b[1m> Finished chain.\u001b[0m\n",
      "Robert Nash complained about lack of activities.\n"
     ]
    }
   ],
   "source": [
    "response = agent_executor.invoke({\n",
    "    \"input\": \"Which Resident complained about lack of acitivites\"})\n",
    "\n",
    "print(response['output'])\n"
   ]
  },
  {
   "cell_type": "code",
   "execution_count": 202,
   "metadata": {},
   "outputs": [
    {
     "name": "stdout",
     "output_type": "stream",
     "text": [
      "[{'COUNT(*)': 0}]\n"
     ]
    }
   ],
   "source": [
    "print(query_sqlite(\"SELECT COUNT(*) FROM nurse_notes WHERE Nurse_name='Olivia'\"))\n"
   ]
  },
  {
   "cell_type": "code",
   "execution_count": null,
   "metadata": {},
   "outputs": [],
   "source": []
  }
 ],
 "metadata": {
  "kernelspec": {
   "display_name": "Python 3",
   "language": "python",
   "name": "python3"
  },
  "language_info": {
   "codemirror_mode": {
    "name": "ipython",
    "version": 3
   },
   "file_extension": ".py",
   "mimetype": "text/x-python",
   "name": "python",
   "nbconvert_exporter": "python",
   "pygments_lexer": "ipython3",
   "version": "3.10.1"
  }
 },
 "nbformat": 4,
 "nbformat_minor": 2
}
